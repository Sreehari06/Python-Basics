{
  "nbformat": 4,
  "nbformat_minor": 0,
  "metadata": {
    "colab": {
      "provenance": [],
      "authorship_tag": "ABX9TyPsx38PzBrxfXk3C2239bFH",
      "include_colab_link": true
    },
    "kernelspec": {
      "name": "python3",
      "display_name": "Python 3"
    },
    "language_info": {
      "name": "python"
    }
  },
  "cells": [
    {
      "cell_type": "markdown",
      "metadata": {
        "id": "view-in-github",
        "colab_type": "text"
      },
      "source": [
        "<a href=\"https://colab.research.google.com/github/Sreehari06/Python-Basics/blob/main/Untitled4.ipynb\" target=\"_parent\"><img src=\"https://colab.research.google.com/assets/colab-badge.svg\" alt=\"Open In Colab\"/></a>"
      ]
    },
    {
      "cell_type": "code",
      "execution_count": null,
      "metadata": {
        "colab": {
          "base_uri": "https://localhost:8080/"
        },
        "id": "mioWpvl0MjaW",
        "outputId": "e0d4653e-6647-4d28-d05c-ddaff1bee008"
      },
      "outputs": [
        {
          "name": "stdout",
          "output_type": "stream",
          "text": [
            "Enter the number of marks50\n"
          ]
        }
      ],
      "source": [
        "x=int(input('Enter the number of marks'))\n"
      ]
    },
    {
      "cell_type": "code",
      "source": [
        "a = 50\n",
        "b = 40\n",
        "if b > a:\n",
        "  print(\"b is greater than a\",'Enter the pass')\n",
        "elif a == b:\n",
        "  print(\"a is equal to b\")  \n",
        "else:\n",
        "  print(\"a is greater than b\",'Enter the fail')"
      ],
      "metadata": {
        "colab": {
          "base_uri": "https://localhost:8080/"
        },
        "id": "5Ray7BXRNH38",
        "outputId": "f337f4d3-c0f8-4deb-eb1d-42881f8eac36"
      },
      "execution_count": null,
      "outputs": [
        {
          "output_type": "stream",
          "name": "stdout",
          "text": [
            "a is greater than b Enter the fail\n"
          ]
        }
      ]
    },
    {
      "cell_type": "code",
      "source": [
        "x=[\"ram\" , \"siva\" , \"ratesh\"]\n",
        "x"
      ],
      "metadata": {
        "id": "TbQ9vJKPOefD",
        "colab": {
          "base_uri": "https://localhost:8080/"
        },
        "outputId": "aeb3e98c-b9d2-4242-8978-6aa35c1173c8"
      },
      "execution_count": 7,
      "outputs": [
        {
          "output_type": "execute_result",
          "data": {
            "text/plain": [
              "['ram', 'siva', 'ratesh']"
            ]
          },
          "metadata": {},
          "execution_count": 7
        }
      ]
    },
    {
      "cell_type": "code",
      "source": [
        "a=input(\"Enter the name\")"
      ],
      "metadata": {
        "colab": {
          "base_uri": "https://localhost:8080/"
        },
        "id": "OJx5s7rMcY0i",
        "outputId": "a2cc8260-0eda-4e80-fccb-886ed49714a9"
      },
      "execution_count": 8,
      "outputs": [
        {
          "name": "stdout",
          "output_type": "stream",
          "text": [
            "Enter the nameVishnu\n"
          ]
        }
      ]
    },
    {
      "cell_type": "code",
      "source": [
        "a"
      ],
      "metadata": {
        "colab": {
          "base_uri": "https://localhost:8080/",
          "height": 35
        },
        "id": "eZ4qzsySc1ex",
        "outputId": "42290dac-ad83-4f30-d143-33c244a4023c"
      },
      "execution_count": 10,
      "outputs": [
        {
          "output_type": "execute_result",
          "data": {
            "text/plain": [
              "'Vishnu'"
            ],
            "application/vnd.google.colaboratory.intrinsic+json": {
              "type": "string"
            }
          },
          "metadata": {},
          "execution_count": 10
        }
      ]
    },
    {
      "cell_type": "code",
      "source": [
        "x.append(a)"
      ],
      "metadata": {
        "id": "ljzabmoodG5x"
      },
      "execution_count": 11,
      "outputs": []
    },
    {
      "cell_type": "code",
      "source": [
        "x"
      ],
      "metadata": {
        "colab": {
          "base_uri": "https://localhost:8080/"
        },
        "id": "1ChN5jHkdZgJ",
        "outputId": "bf485dcd-53cc-4514-9960-220647e181bf"
      },
      "execution_count": 12,
      "outputs": [
        {
          "output_type": "execute_result",
          "data": {
            "text/plain": [
              "['ram', 'siva', 'ratesh', 'Vishnu']"
            ]
          },
          "metadata": {},
          "execution_count": 12
        }
      ]
    },
    {
      "cell_type": "code",
      "source": [
        "x.insert (int(input(\"enter a number\")),\"kishore\")"
      ],
      "metadata": {
        "colab": {
          "base_uri": "https://localhost:8080/"
        },
        "id": "KfvSAESudbt5",
        "outputId": "04d93755-e902-41ca-e791-c4c896b2dc07"
      },
      "execution_count": 31,
      "outputs": [
        {
          "name": "stdout",
          "output_type": "stream",
          "text": [
            "enter a number6\n"
          ]
        }
      ]
    },
    {
      "cell_type": "code",
      "source": [
        "x"
      ],
      "metadata": {
        "colab": {
          "base_uri": "https://localhost:8080/"
        },
        "id": "HrdQ_J1td13Q",
        "outputId": "b69972c7-b602-43db-a4f2-9f850bdb3c52"
      },
      "execution_count": 32,
      "outputs": [
        {
          "output_type": "execute_result",
          "data": {
            "text/plain": [
              "[1,\n",
              " 'siva',\n",
              " 'ram',\n",
              " 'Kishore',\n",
              " 'Kumar',\n",
              " 'Kundan',\n",
              " 'kishore',\n",
              " 'siva',\n",
              " 'ratesh',\n",
              " 'Vishnu']"
            ]
          },
          "metadata": {},
          "execution_count": 32
        }
      ]
    },
    {
      "cell_type": "code",
      "source": [],
      "metadata": {
        "id": "-MPy74jld28I"
      },
      "execution_count": null,
      "outputs": []
    }
  ]
}